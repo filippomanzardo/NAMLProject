{
 "cells": [
  {
   "cell_type": "markdown",
   "metadata": {},
   "source": [
    "**Dependencies**"
   ]
  },
  {
   "cell_type": "code",
   "execution_count": 2,
   "metadata": {},
   "outputs": [],
   "source": [
    "import pandas as pd \n",
    "import numpy as np\n",
    "import sys\n",
    "\n",
    "from tensorflow import keras\n",
    "from sklearn.model_selection import GridSearchCV\n",
    "from sklearn import svm\n",
    "from sklearn.metrics import confusion_matrix\n",
    "\n",
    "sys.path.insert(0, '../functions/')\n",
    "\n",
    "from train_test_models import *\n",
    "from preprocess_data import preprocess_data"
   ]
  },
  {
   "cell_type": "markdown",
   "metadata": {},
   "source": [
    "**Data Preprocessing**"
   ]
  },
  {
   "cell_type": "code",
   "execution_count": 3,
   "metadata": {},
   "outputs": [
    {
     "name": "stderr",
     "output_type": "stream",
     "text": [
      "131it [00:12, 10.76it/s]\n"
     ]
    },
    {
     "name": "stdout",
     "output_type": "stream",
     "text": [
      "Train shape: (12578, 24, 270)\n",
      "Test shape: (3393, 24, 270)\n",
      "Balanced Train: True\n"
     ]
    }
   ],
   "source": [
    "# Dataset\n",
    "timeframe = \"1h\"\n",
    "data = pd.read_csv(f\"../data/BTC_EUR-{timeframe}.csv\")\n",
    "data['Timestamp'] = pd.to_datetime(data['Timestamp'], unit='ms')\n",
    "data.set_index(keys='Timestamp', inplace=True)\n",
    "\n",
    "# Parameters\n",
    "shift_days = 10\n",
    "window = 24\n",
    "value_to_predict = 'Close'\n",
    "\n",
    "# Preprocess Data\n",
    "train_x, val_x, test_x, train_y, val_y, test_y = preprocess_data(data, k=shift_days, column=value_to_predict, window=window)\n",
    "\n",
    "print('Train shape: {}\\nTest shape: {}\\nBalanced Train: {}'\n",
    "    .format(train_x.shape, test_x.shape, train_y.sum() == train_x.shape[0]/2))"
   ]
  },
  {
   "cell_type": "markdown",
   "metadata": {},
   "source": [
    "**Baseline**"
   ]
  },
  {
   "cell_type": "code",
   "execution_count": 12,
   "metadata": {},
   "outputs": [
    {
     "name": "stdout",
     "output_type": "stream",
     "text": [
      "Buys: 1703, Holds: 1690\n",
      "True Buys: 752, False Buys: 617, True Holds: 1086, False Holds: 938\n",
      "Accuracy: 0.5417\n"
     ]
    }
   ],
   "source": [
    "# Baseline classifier\n",
    "base_x = train_x.reshape(train_x.shape[0], -1)\n",
    "classifier = svm.SVC()\n",
    "classifier.fit(base_x, train_y[:,0])\n",
    "\n",
    "# Predictions\n",
    "y_hat = classifier.predict(test_x.reshape(test_x.shape[0], -1))\n",
    "\n",
    "buys = test_y.sum()\n",
    "holds = len(test_y)-test_y.sum()\n",
    "\n",
    "cm = confusion_matrix(test_y, y_hat)\n",
    "FP = cm.sum(axis=0) - np.diag(cm)  \n",
    "FN = cm.sum(axis=1) - np.diag(cm)\n",
    "TP = np.diag(cm)\n",
    "TN = cm.sum() - (FP + FN + TP)\n",
    "\n",
    "# Print stats\n",
    "print('Buys: {:d}, Holds: {:d}'.format(buys, holds))\n",
    "print(\"True Buys: {:d}, False Buys: {:d}, True Holds: {:d}, False Holds: {:d}\".format(TP[0],FP[0],TN[0],FN[0]))\n",
    "print(\"Accuracy: {:.4f}\".format(np.count_nonzero(((y_hat == test_y[:,0])))/len(test_y)))"
   ]
  },
  {
   "cell_type": "markdown",
   "metadata": {},
   "source": [
    "**Network Training**"
   ]
  },
  {
   "cell_type": "code",
   "execution_count": 4,
   "metadata": {},
   "outputs": [],
   "source": [
    "# Train Networks\n",
    "num_nets = 3\n",
    "\n",
    "model = list()\n",
    "for i in range(num_nets):\n",
    "    model.append(train_model(net=i, \n",
    "                            train_data=(train_x, train_y), \n",
    "                            batch_size=128, \n",
    "                            epochs=20, \n",
    "                            loss='binary_crossentropy',\n",
    "                            verbose=0))"
   ]
  },
  {
   "cell_type": "markdown",
   "metadata": {},
   "source": [
    "**Network Testing**"
   ]
  },
  {
   "cell_type": "code",
   "execution_count": 5,
   "metadata": {},
   "outputs": [
    {
     "name": "stdout",
     "output_type": "stream",
     "text": [
      "Buys: 1703, Holds: 1690\n",
      "True Buys: 851, False Buys: 786, True Holds: 917, False Holds: 839\n",
      "Accuracy: 0.5211\n",
      "Buys: 1703, Holds: 1690\n",
      "True Buys: 833, False Buys: 734, True Holds: 969, False Holds: 857\n",
      "Accuracy: 0.5311\n",
      "Buys: 1703, Holds: 1690\n",
      "True Buys: 813, False Buys: 773, True Holds: 930, False Holds: 877\n",
      "Accuracy: 0.5137\n"
     ]
    }
   ],
   "source": [
    "for i in range(num_nets):\n",
    "    test_model(model[i], test_x, test_y, only_accuracy=False)"
   ]
  },
  {
   "cell_type": "markdown",
   "metadata": {},
   "source": [
    "**Feature Extractors**"
   ]
  },
  {
   "cell_type": "code",
   "execution_count": 6,
   "metadata": {},
   "outputs": [
    {
     "data": {
      "text/plain": [
       "(12578, 768)"
      ]
     },
     "execution_count": 6,
     "metadata": {},
     "output_type": "execute_result"
    }
   ],
   "source": [
    "features = list()\n",
    "features_x = list()\n",
    "for i in range(num_nets):\n",
    "    features.append(keras.Model(\n",
    "        inputs=model[i].inputs, \n",
    "        outputs=model[i].layers[-4].output\n",
    "    ))\n",
    "    features_x.append(features[i](train_x).numpy())\n",
    "\n",
    "features_conc = np.concatenate((features_x), axis=1)\n",
    "features_conc.shape"
   ]
  },
  {
   "cell_type": "markdown",
   "metadata": {},
   "source": [
    "**SVM Training**"
   ]
  },
  {
   "cell_type": "code",
   "execution_count": 7,
   "metadata": {},
   "outputs": [
    {
     "name": "stdout",
     "output_type": "stream",
     "text": [
      "Best estimator found by grid search:\n",
      "SVC(C=0.1, kernel='linear')\n"
     ]
    }
   ],
   "source": [
    "param_grid = {'C': [0.01, 0.1, 1, 10, 100], 'kernel': ['rbf', 'linear','sigmoid']}\n",
    "classifier = GridSearchCV(svm.SVC(class_weight='balanced'), param_grid)\n",
    "classifier = classifier.fit(features_conc, train_y[:,0])\n",
    "print(\"Best estimator found by grid search:\")\n",
    "print(classifier.best_estimator_)"
   ]
  },
  {
   "cell_type": "code",
   "execution_count": 11,
   "metadata": {},
   "outputs": [
    {
     "name": "stdout",
     "output_type": "stream",
     "text": [
      "Buys: 6289, Holds: 6289\n",
      "True Buys: 6070, False Buys: 223, True Holds: 6066, False Holds: 219\n",
      "Accuracy: 0.9649\n"
     ]
    }
   ],
   "source": [
    "y_hat = classifier.predict(features_conc)\n",
    "\n",
    "buys = train_y.sum()\n",
    "holds = len(train_y)-train_y.sum()\n",
    "\n",
    "cm = confusion_matrix(train_y, y_hat)\n",
    "FP = cm.sum(axis=0) - np.diag(cm)  \n",
    "FN = cm.sum(axis=1) - np.diag(cm)\n",
    "TP = np.diag(cm)\n",
    "TN = cm.sum() - (FP + FN + TP)\n",
    "\n",
    "\n",
    "print('Buys: {:d}, Holds: {:d}'.format(buys, holds))\n",
    "print(\"True Buys: {:d}, False Buys: {:d}, True Holds: {:d}, False Holds: {:d}\".format(TP[0],FP[0],TN[0],FN[0]))\n",
    "print(\"Accuracy: {:.4f}\".format(np.count_nonzero(((y_hat == train_y[:,0])))/len(train_y)))"
   ]
  },
  {
   "cell_type": "markdown",
   "metadata": {},
   "source": [
    "**SVM Testing**"
   ]
  },
  {
   "cell_type": "code",
   "execution_count": 8,
   "metadata": {},
   "outputs": [
    {
     "name": "stdout",
     "output_type": "stream",
     "text": [
      "Buys: 1703, Holds: 1690\n",
      "True Buys: 795, False Buys: 682, True Holds: 1021, False Holds: 895\n",
      "Accuracy: 0.5352\n"
     ]
    }
   ],
   "source": [
    "test_features = list()\n",
    "\n",
    "for i in range(num_nets):\n",
    "    test_features.append(features[i](test_x).numpy())\n",
    "\n",
    "test_con = np.concatenate((test_features), axis =  1)\n",
    "\n",
    "y_hat = classifier.predict(test_con)\n",
    "\n",
    "buys = test_y.sum()\n",
    "holds = len(test_y)-test_y.sum()\n",
    "\n",
    "cm = confusion_matrix(test_y, y_hat)\n",
    "FP = cm.sum(axis=0) - np.diag(cm)  \n",
    "FN = cm.sum(axis=1) - np.diag(cm)\n",
    "TP = np.diag(cm)\n",
    "TN = cm.sum() - (FP + FN + TP)\n",
    "\n",
    "\n",
    "print('Buys: {:d}, Holds: {:d}'.format(buys, holds))\n",
    "print(\"True Buys: {:d}, False Buys: {:d}, True Holds: {:d}, False Holds: {:d}\".format(TP[0],FP[0],TN[0],FN[0]))\n",
    "print(\"Accuracy: {:.4f}\".format(np.count_nonzero(((y_hat == test_y[:,0])))/len(test_y)))"
   ]
  }
 ],
 "metadata": {
  "interpreter": {
   "hash": "d0a5ee20017f608eb697d8c474b538a3e5a4aa80dc9080d00b16b4ae1c90e7aa"
  },
  "kernelspec": {
   "display_name": "Python 3.8.8 64-bit ('base': conda)",
   "language": "python",
   "name": "python3"
  },
  "language_info": {
   "codemirror_mode": {
    "name": "ipython",
    "version": 3
   },
   "file_extension": ".py",
   "mimetype": "text/x-python",
   "name": "python",
   "nbconvert_exporter": "python",
   "pygments_lexer": "ipython3",
   "version": "3.8.8"
  },
  "orig_nbformat": 4
 },
 "nbformat": 4,
 "nbformat_minor": 2
}
